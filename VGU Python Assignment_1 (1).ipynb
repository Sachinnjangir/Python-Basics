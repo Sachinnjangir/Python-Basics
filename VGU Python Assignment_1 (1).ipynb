{
 "cells": [
  {
   "cell_type": "markdown",
   "id": "2a8e9505",
   "metadata": {},
   "source": [
    "## Question 1.\tPython program to add two numbers\n",
    "\n"
   ]
  },
  {
   "cell_type": "code",
   "execution_count": 1,
   "id": "94db056f",
   "metadata": {},
   "outputs": [
    {
     "name": "stdout",
     "output_type": "stream",
     "text": [
      "11\n"
     ]
    }
   ],
   "source": [
    "a=5\n",
    "b=6\n",
    "print(a+b)"
   ]
  },
  {
   "cell_type": "markdown",
   "id": "04f077a5",
   "metadata": {},
   "source": [
    "## Question 2.Maximum of two numbers in Python\n"
   ]
  },
  {
   "cell_type": "code",
   "execution_count": 4,
   "id": "de8dcf82",
   "metadata": {},
   "outputs": [
    {
     "name": "stdout",
     "output_type": "stream",
     "text": [
      "10 is maximum\n"
     ]
    }
   ],
   "source": [
    "a = 5\n",
    "b = 10\n",
    "if a > b:\n",
    "    print(a,\"is maximum\") \n",
    "else:\n",
    "    print(b,\"is maximum\")  \n"
   ]
  },
  {
   "cell_type": "markdown",
   "id": "1efa765f",
   "metadata": {},
   "source": [
    "## Question 3.\tPython Program for factorial of a number\n"
   ]
  },
  {
   "cell_type": "code",
   "execution_count": 13,
   "id": "053d1d5c",
   "metadata": {},
   "outputs": [
    {
     "name": "stdout",
     "output_type": "stream",
     "text": [
      "enter no. for factorial5\n",
      "Factorial of 5 is = 120\n"
     ]
    }
   ],
   "source": [
    "n=int(input(\"enter no. for factorial\"))\n",
    "def factorial(n):\n",
    "    if n==0 or n==1: #base value\n",
    "        return 1\n",
    "    else:\n",
    "        result=n*factorial(n-1)\n",
    "        return result\n",
    "print(\"Factorial of\", n, \"is =\",factorial(n))"
   ]
  },
  {
   "cell_type": "markdown",
   "id": "33404611",
   "metadata": {},
   "source": [
    "## 4.\tPython Program for simple interest\n"
   ]
  },
  {
   "cell_type": "code",
   "execution_count": 14,
   "id": "2594116c",
   "metadata": {},
   "outputs": [
    {
     "name": "stdout",
     "output_type": "stream",
     "text": [
      "Enter the principal amount: 10000\n",
      "Enter the interest rate: 5\n",
      "Enter the time period in years: 2\n",
      "The simple interest for principal amount 10000.0 at interest rate 5.0 and time period 2.0 years is 1000.0\n"
     ]
    }
   ],
   "source": [
    "principal = float(input(\"Enter the principal amount: \"))\n",
    "rate = float(input(\"Enter the interest rate: \"))\n",
    "time = float(input(\"Enter the time period in years: \"))\n",
    "si = (principal * rate * time) / 100\n",
    "print(\"The simple interest for principal amount\", principal, \"at interest rate\", rate, \"and time period\", time, \"years is\", si)\n"
   ]
  },
  {
   "cell_type": "markdown",
   "id": "d34f4a13",
   "metadata": {},
   "source": [
    "## 5.\tPython Program for compound interest\n"
   ]
  },
  {
   "cell_type": "code",
   "execution_count": 15,
   "id": "dcb67c1a",
   "metadata": {},
   "outputs": [
    {
     "name": "stdout",
     "output_type": "stream",
     "text": [
      "Enter the principal amount: 1200\n",
      "Enter the interest rate: 5.4\n",
      "Enter the time period (in years): 2\n",
      "Compound interest is: 48.48000000000002\n",
      "Total amount is: 1248.48\n"
     ]
    }
   ],
   "source": [
    "p= float(input(\"Enter the principal amount: \"))\n",
    "r= float(input(\"Enter the interest rate: \"))\n",
    "t= float(input(\"Enter the time period (in years): \"))\n",
    "amount = p* (1 + t/100)**t\n",
    "compound_interest = amount - p\n",
    "\n",
    "print(\"Compound interest is:\", compound_interest)\n",
    "print(\"Total amount is:\", amount)\n"
   ]
  },
  {
   "cell_type": "markdown",
   "id": "f5bc28d2",
   "metadata": {},
   "source": [
    "## 6.\tPython Program to check Armstrong Number\n"
   ]
  },
  {
   "cell_type": "code",
   "execution_count": 19,
   "id": "c75e2e08",
   "metadata": {},
   "outputs": [
    {
     "name": "stdout",
     "output_type": "stream",
     "text": [
      "Enter a number: 407\n",
      "407 is an Armstrong number\n"
     ]
    }
   ],
   "source": [
    "num = int(input(\"Enter a number: \"))\n",
    "sum = 0\n",
    "temp = num\n",
    "while temp > 0:\n",
    "   digit = temp % 10\n",
    "   sum += digit ** 3\n",
    "   temp //= 10\n",
    "\n",
    "if num == sum:\n",
    "   print(num,\"is an Armstrong number\")\n",
    "else:\n",
    "   print(num,\"is not an Armstrong number\")\n"
   ]
  },
  {
   "cell_type": "markdown",
   "id": "d30c6f3c",
   "metadata": {},
   "source": [
    "## 7.\tPython Program for Program to find area of a circle\n"
   ]
  },
  {
   "cell_type": "code",
   "execution_count": 20,
   "id": "76c4ed03",
   "metadata": {},
   "outputs": [
    {
     "name": "stdout",
     "output_type": "stream",
     "text": [
      "Enter the radius of the circle: 10\n",
      "The area of the circle is: 314.159\n"
     ]
    }
   ],
   "source": [
    "pi = 3.14159\n",
    "radius = float(input(\"Enter the radius of the circle: \"))\n",
    "area = pi * radius**2\n",
    "print(\"The area of the circle is:\", area)\n"
   ]
  },
  {
   "cell_type": "markdown",
   "id": "1a8ead25",
   "metadata": {},
   "source": [
    "## 8.\tPython program to print all Prime numbers in an Interval\n"
   ]
  },
  {
   "cell_type": "code",
   "execution_count": 21,
   "id": "74e2ff11",
   "metadata": {},
   "outputs": [
    {
     "name": "stdout",
     "output_type": "stream",
     "text": [
      "Prime numbers between 900 and 1000 are:\n",
      "907\n",
      "911\n",
      "919\n",
      "929\n",
      "937\n",
      "941\n",
      "947\n",
      "953\n",
      "967\n",
      "971\n",
      "977\n",
      "983\n",
      "991\n",
      "997\n"
     ]
    }
   ],
   "source": [
    "a = 900\n",
    "b = 1000\n",
    "print(\"Prime numbers between\", a, \"and\", b, \"are:\")\n",
    "for num in range(a, b + 1):\n",
    "   if num > 1:\n",
    "       for i in range(2, num):\n",
    "           if (num % i) == 0:\n",
    "               break\n",
    "       else:\n",
    "           print(num)"
   ]
  },
  {
   "cell_type": "markdown",
   "id": "c50e2117",
   "metadata": {},
   "source": [
    "## 9.\tPython program to check whether a number is Prime or not\n"
   ]
  },
  {
   "cell_type": "code",
   "execution_count": 22,
   "id": "8d36a3e1",
   "metadata": {},
   "outputs": [
    {
     "name": "stdout",
     "output_type": "stream",
     "text": [
      "Enter a number: 15\n",
      "15 is not a prime number\n"
     ]
    }
   ],
   "source": [
    "num = int(input(\"Enter a number: \"))\n",
    "if num > 1:\n",
    "    for i in range(2, num):\n",
    "        if num % i == 0:\n",
    "            print(num, \"is not a prime number\")\n",
    "            break\n",
    "    else:\n",
    "        print(num, \"is a prime number\")\n"
   ]
  },
  {
   "cell_type": "markdown",
   "id": "b9af7e39",
   "metadata": {},
   "source": [
    "## 10.\tPython Program for n-th Fibonacci number\n"
   ]
  },
  {
   "cell_type": "code",
   "execution_count": 23,
   "id": "a9090f85",
   "metadata": {},
   "outputs": [
    {
     "name": "stdout",
     "output_type": "stream",
     "text": [
      "Enter the value of n: 10\n",
      "The 10 th Fibonacci number is: 55\n"
     ]
    }
   ],
   "source": [
    "n = int(input(\"Enter the value of n: \"))\n",
    "\n",
    "fibonacci_0 = 0\n",
    "fibonacci_1 = 1\n",
    "\n",
    "if n == 0:\n",
    "    fibonacci_n = fibonacci_0\n",
    "elif n == 1:\n",
    "    fibonacci_n = fibonacci_1\n",
    "else:\n",
    "    for i in range(2, n + 1):\n",
    "        fibonacci_n = fibonacci_0 + fibonacci_1\n",
    "        fibonacci_0 = fibonacci_1\n",
    "        fibonacci_1 = fibonacci_n\n",
    "print(\"The\", n, \"th Fibonacci number is:\", fibonacci_n)\n"
   ]
  },
  {
   "cell_type": "markdown",
   "id": "d5f9d672",
   "metadata": {},
   "source": [
    "# 11.\tPython Program for How to check if a given number is Fibonacci number?"
   ]
  },
  {
   "cell_type": "code",
   "execution_count": 26,
   "id": "357a8c96",
   "metadata": {},
   "outputs": [
    {
     "name": "stdout",
     "output_type": "stream",
     "text": [
      "Enter a number: 55\n",
      "55 is a Fibonacci number\n"
     ]
    }
   ],
   "source": [
    "\n",
    "num = int(input(\"Enter a number: \"))\n",
    "def is_fibonacci(n):\n",
    "    if n == 0:\n",
    "        return True\n",
    "    a, b = 0, 1\n",
    "    while b < n:\n",
    "        a, b = b, a + b\n",
    "    return b == n\n",
    "\n",
    "if is_fibonacci(num):\n",
    "    print(num, \"is a Fibonacci number\")\n",
    "else:\n",
    "    print(num, \"is not a Fibonacci number\")\n"
   ]
  },
  {
   "cell_type": "markdown",
   "id": "c4673598",
   "metadata": {},
   "source": [
    "## 12.\tPython Program for n\\’th multiple of a number in Fibonacci Series\n"
   ]
  },
  {
   "cell_type": "code",
   "execution_count": 32,
   "id": "4d7960f0",
   "metadata": {},
   "outputs": [
    {
     "name": "stdout",
     "output_type": "stream",
     "text": [
      "Position of n'th multiple of k inFibonacci Series is:  30\n"
     ]
    }
   ],
   "source": [
    "def find(k, n):\n",
    "   f1 = 0\n",
    "   f2 = 1\n",
    "   i =2;\n",
    "   #fibonacci recursion\n",
    "   while i!=0:\n",
    "      f3 = f1 + f2;\n",
    "      f1 = f2;\n",
    "      f2 = f3;\n",
    "      if f2%k == 0:\n",
    "         return n*i\n",
    "      i+=1\n",
    "   return\n",
    "# multiple of which number\n",
    "n = 5;\n",
    "# number\n",
    "k = 4;\n",
    "print(\"Position of n\\'th multiple of k in\"\"Fibonacci Series is: \", find(k,n));"
   ]
  },
  {
   "cell_type": "markdown",
   "id": "118bb78a",
   "metadata": {},
   "source": [
    "## 13.\tProgram to print ASCII Value of a character\n"
   ]
  },
  {
   "cell_type": "code",
   "execution_count": 33,
   "id": "d8d0a89b",
   "metadata": {},
   "outputs": [
    {
     "name": "stdout",
     "output_type": "stream",
     "text": [
      "The ASCII value of 'p' is 112\n"
     ]
    }
   ],
   "source": [
    "c = 'p'\n",
    "print(\"The ASCII value of '\" + c + \"' is\", ord(c))  #ord() function to convert a character to an integer (ASCII value).\n"
   ]
  },
  {
   "cell_type": "markdown",
   "id": "f9780302",
   "metadata": {},
   "source": [
    "## 14.\tPython Program for Sum of squares of first n natural numbers\n"
   ]
  },
  {
   "cell_type": "code",
   "execution_count": 35,
   "id": "0ea949d1",
   "metadata": {
    "scrolled": true
   },
   "outputs": [
    {
     "name": "stdout",
     "output_type": "stream",
     "text": [
      "Enter a positive integer: 20\n",
      "The sum of squares of the first 20 natural numbers is 2870\n"
     ]
    }
   ],
   "source": [
    "n = int(input(\"Enter a positive integer: \"))\n",
    "\n",
    "sum_of_squares = 0\n",
    "for i in range(1, n+1):\n",
    "    sum_of_squares += i*i\n",
    "\n",
    "print(\"The sum of squares of the first\", n, \"natural numbers is\", sum_of_squares)\n"
   ]
  },
  {
   "cell_type": "markdown",
   "id": "1738a8ff",
   "metadata": {},
   "source": [
    "### 15.\tPython Program for cube sum of first n natural numbers"
   ]
  },
  {
   "cell_type": "code",
   "execution_count": 37,
   "id": "47eb1556",
   "metadata": {},
   "outputs": [
    {
     "name": "stdout",
     "output_type": "stream",
     "text": [
      "Enter a positive integer: 20\n",
      "The cube sum of the first 20 natural numbers is 1\n",
      "The cube sum of the first 20 natural numbers is 9\n",
      "The cube sum of the first 20 natural numbers is 36\n",
      "The cube sum of the first 20 natural numbers is 100\n",
      "The cube sum of the first 20 natural numbers is 225\n",
      "The cube sum of the first 20 natural numbers is 441\n",
      "The cube sum of the first 20 natural numbers is 784\n",
      "The cube sum of the first 20 natural numbers is 1296\n",
      "The cube sum of the first 20 natural numbers is 2025\n",
      "The cube sum of the first 20 natural numbers is 3025\n",
      "The cube sum of the first 20 natural numbers is 4356\n",
      "The cube sum of the first 20 natural numbers is 6084\n",
      "The cube sum of the first 20 natural numbers is 8281\n",
      "The cube sum of the first 20 natural numbers is 11025\n",
      "The cube sum of the first 20 natural numbers is 14400\n",
      "The cube sum of the first 20 natural numbers is 18496\n",
      "The cube sum of the first 20 natural numbers is 23409\n",
      "The cube sum of the first 20 natural numbers is 29241\n",
      "The cube sum of the first 20 natural numbers is 36100\n",
      "The cube sum of the first 20 natural numbers is 44100\n"
     ]
    }
   ],
   "source": [
    "n = int(input(\"Enter a positive integer: \"))\n",
    "cube_sum = 0\n",
    "for i in range(1, n+1):\n",
    "    cube_sum += i*i*i\n",
    "    print(\"The cube sum of the first\", n, \"natural numbers is\", cube_sum)\n"
   ]
  }
 ],
 "metadata": {
  "kernelspec": {
   "display_name": "Python 3 (ipykernel)",
   "language": "python",
   "name": "python3"
  },
  "language_info": {
   "codemirror_mode": {
    "name": "ipython",
    "version": 3
   },
   "file_extension": ".py",
   "mimetype": "text/x-python",
   "name": "python",
   "nbconvert_exporter": "python",
   "pygments_lexer": "ipython3",
   "version": "3.10.9"
  }
 },
 "nbformat": 4,
 "nbformat_minor": 5
}
